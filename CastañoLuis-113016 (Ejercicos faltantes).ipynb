{
 "cells": [
  {
   "cell_type": "markdown",
   "metadata": {},
   "source": [
    "# TALLER 1: LÓGICA DE PROGRAMACIÓN"
   ]
  },
  {
   "cell_type": "markdown",
   "metadata": {},
   "source": [
    "## DECISIONES Y CICLOS"
   ]
  },
  {
   "cell_type": "markdown",
   "metadata": {},
   "source": [
    "#### 1. Sin utilizar el comando abs, escribir un programa que calcule e imprima el valor absoluto de cualquier número (sea entero o decimal)."
   ]
  },
  {
   "cell_type": "code",
   "execution_count": null,
   "metadata": {},
   "outputs": [],
   "source": [
    "# Se realiza un ciclo que impide se ingrese cadenas o cualquier...\n",
    "# ...otro dato inválido. Cuando el dato es un flotante se ...\n",
    "# ...termina el ciclo, en caso contrario seguirá solicitando...\n",
    "# ...el dato.\n",
    "while True:\n",
    "    try:\n",
    "        numero_original = float(input('Ingrese un número para calcular su'\n",
    "                                      ' valor absoluto: '))\n",
    "        if type(numero_original) == float: break\n",
    "    except ValueError:\n",
    "        print('El dato no se puede leer, ingrese nuevamente: ')\n",
    "\n",
    "numero_absoluto = numero_original   # Declaramos variable para trabajar y...\n",
    "                                    # ...no editar el valor original\n",
    "\n",
    "if numero_absoluto < 0:\n",
    "    numero_absoluto = numero_absoluto * -1\n",
    "\n",
    "# Se imprime la variable usando f antes de las comillas ('')...\n",
    "# ...esto para poder referenciar en la cadena el nombre de las variables\n",
    "print(f'\\nEl valor absoluto de {numero_original} es: |{numero_absoluto}|')"
   ]
  },
  {
   "cell_type": "markdown",
   "metadata": {},
   "source": [
    "#### 2. Leer un número entero y escribirlo en reversa. Por ejemplo, 461975 será 579164. No utilizar comandos de ordenamiento."
   ]
  },
  {
   "cell_type": "code",
   "execution_count": null,
   "metadata": {},
   "outputs": [],
   "source": [
    "# Ciclo que exige se ingrese un número entero. Cualquier otro tipo de dato...\n",
    "# ...es inválido\n",
    "while True:\n",
    "    try:\n",
    "        numero = int(input('Ingrese un número entero: '))\n",
    "        if type(numero) == int: break\n",
    "    except ValueError:\n",
    "        print('El dato no se puede leer. Ingrese un número entero por favor: ')\n",
    "\n",
    "if numero < 0:\n",
    "    copia_numero = numero * -1\n",
    "else:\n",
    "    copia_numero = numero\n",
    "\n",
    "# Se realiza ciclo que va obteniendo cada dígito de derecha a izquierda...\n",
    "# ...y le va acomodando en la variable numero_invertido\n",
    "numero_invertido = 0\n",
    "while copia_numero != 0:\n",
    "    digito = copia_numero % 10\n",
    "    numero_invertido = numero_invertido * 10 + digito\n",
    "    copia_numero //= 10\n",
    "\n",
    "print(f'\\n{numero}, escrito en reversa será: {numero_invertido}')"
   ]
  },
  {
   "cell_type": "markdown",
   "metadata": {},
   "source": [
    "#### 3. Leer un número entero de 3 dígitos y determinar si contiene el dígito 8."
   ]
  },
  {
   "cell_type": "code",
   "execution_count": null,
   "metadata": {},
   "outputs": [],
   "source": [
    "# Se restringe el tipo de dato ingresado a enteros de 3 dígitos\n",
    "while True:\n",
    "    try:\n",
    "        numero = int(input('Ingrese un número entero de 3 dígitos: '))\n",
    "        if type(numero) == int and \\\n",
    "        (-999 <= numero <=-100 or 100 <= numero <= 999): break\n",
    "    except ValueError or False:\n",
    "        print('Dato incorrecto. Por favor ingrese '\n",
    "              'un número entero de 3 dígitos: ')\n",
    "\n",
    "# Se hace una copia del número para modificarlo y se compara cada dígito\n",
    "if numero < 0:\n",
    "    copia_numero = numero * -1\n",
    "else:\n",
    "    copia_numero = numero\n",
    "while copia_numero != 0:\n",
    "    digitos = copia_numero % 10\n",
    "    if digitos == 8:\n",
    "        print(f'\\nEl número {numero} tiene el dígito 8')\n",
    "        break\n",
    "    else:\n",
    "        copia_numero //= 10    \n",
    "else:\n",
    "    print(f'\\nEl número {numero} no tiene el dígito 8')"
   ]
  },
  {
   "cell_type": "markdown",
   "metadata": {},
   "source": [
    "#### 4. Leer un número entero positivo y determinar la suma de sus dígitos pares. Por ejemplo, en el número 124, los dígitos pares son el 2 y el 4 y su suma vale 6."
   ]
  },
  {
   "cell_type": "code",
   "execution_count": null,
   "metadata": {},
   "outputs": [],
   "source": [
    "# Se restringe el tipo de dato a enteros positivos\n",
    "while True:\n",
    "    try:\n",
    "        numero = int(input('Ingrese un número entero positivo: '))\n",
    "        if type(numero) == int and numero >= 0: break\n",
    "    except ValueError or False:\n",
    "        print('Por favor, ingrese un numero entero positivo: ')\n",
    "\n",
    "suma = 0\n",
    "copia_numero = numero\n",
    "while copia_numero != 0:\n",
    "    digito = copia_numero % 10\n",
    "    if digito % 2 == 0:\n",
    "        suma = suma + digito\n",
    "    copia_numero //= 10\n",
    "else:\n",
    "    print(f'\\nLa suma de los digitos pares del número {numero} es: {suma}')"
   ]
  },
  {
   "cell_type": "markdown",
   "metadata": {},
   "source": [
    "#### 5. Leer un número entero y determinar el número de cincos que están consecutivos en un número. Por ejemplo, en 5512355551 hay 6 cincos consecutivos. Ahora, en 234555234512 solo hay 3 cincos consecutivos."
   ]
  },
  {
   "cell_type": "code",
   "execution_count": null,
   "metadata": {},
   "outputs": [],
   "source": [
    "# Ciclo while exige se ingrese un número entero. Cualquier otro tipo de...\n",
    "# ...dato es inválido\n",
    "while True:\n",
    "    try:\n",
    "        numero = int(input('Ingrese un número entero: '))\n",
    "        if type(numero) == int: break\n",
    "    except ValueError:\n",
    "        print('El dato no se puede leer. Ingrese un número entero por favor: ')\n",
    "\n",
    "if numero < 0:\n",
    "    numero *= -1\n",
    "\n",
    "# Se asigna numero como cadena para poder convertir a una lista iterable\n",
    "numero_cadena = str(numero)\n",
    "numero_como_lista = [int(digito) for digito in numero_cadena]\n",
    "\n",
    "# Este condicional se verifica en cada elemento de la lista excepto el...\n",
    "#...último elemento de la lista, pues la condición se saldría del...\n",
    "#...rango en la primer parte de la condición\n",
    "contador_de_5 = 0\n",
    "for i in range(len(numero_como_lista) - 1):\n",
    "    if numero_como_lista[i] == numero_como_lista[(i + 1)] == 5 \\\n",
    "    or numero_como_lista[(i - 1)] == numero_como_lista[i] == 5:\n",
    "        contador_de_5 += 1\n",
    "\n",
    "print(f'En {numero} hay {contador_de_5} números 5 seguidos')"
   ]
  },
  {
   "cell_type": "markdown",
   "metadata": {},
   "source": [
    "#### 6. Leer un número entero y determinar si la suma de sus dígitos es un número de Fibonacci."
   ]
  },
  {
   "cell_type": "code",
   "execution_count": null,
   "metadata": {},
   "outputs": [],
   "source": [
    "while True:     # Dato restringido a números enteros\n",
    "    try:\n",
    "        numero = int(input('Ingrese un número entero: '))\n",
    "        if type(numero) == int: break\n",
    "    except ValueError:\n",
    "        print('Dato incorrecto, ingrese un numero entero: ')\n",
    "\n",
    "if numero < 0:\n",
    "    numero *= -1\n",
    "\n",
    "# Se genera una función que calcula serie de fibonacci, se llama más adelante\n",
    "def hallar_serie_fibonacci_hasta(n):\n",
    "   serie_fibonacci = []\n",
    "   a, b = 0, 1\n",
    "   while b < n:\n",
    "      serie_fibonacci.append(b)\n",
    "      a, b = b, a+b\n",
    "   return serie_fibonacci\n",
    "\n",
    "listado_numeros_fibonacci = hallar_serie_fibonacci_hasta(numero)\n",
    "\n",
    "total_suma = 0\n",
    "while numero != 0:\n",
    "    digito = numero % 10\n",
    "    total_suma += digito\n",
    "    numero //= 10\n",
    "else:\n",
    "    print(f'\\nLa suma de sus dígitos es: {total_suma}')\n",
    "    \n",
    "if total_suma in listado_numeros_fibonacci:\n",
    "    print('¡La suma de los dígitos es un número de fibonacci!')\n",
    "else:\n",
    "    print('La suma de los dígitos no es igual a un número de fibonacci')"
   ]
  },
  {
   "cell_type": "markdown",
   "metadata": {},
   "source": [
    "#### 7. Leer un número entero positivo y determine si existen en el número dígitos repetidos. Reporte cuales son los dígitos repetidos."
   ]
  },
  {
   "cell_type": "code",
   "execution_count": null,
   "metadata": {},
   "outputs": [],
   "source": [
    "# Se restringe el dato a ingresar a enteros positivos    \n",
    "while True:\n",
    "    try:\n",
    "        numero = int(input('Ingrese un número entero positivo: '))\n",
    "        if type(numero) == int and numero >= 0: break\n",
    "    except ValueError or False:\n",
    "        print('Por favor, ingrese un numero entero positivo: ')\n",
    "\n",
    "\n",
    "digitos = list(range(10))\n",
    "copia_numero = numero\n",
    "for i in digitos:\n",
    "    numero = copia_numero\n",
    "    contador_digitos = 0\n",
    "    while numero != 0:\n",
    "        digito = numero % 10\n",
    "        if digito == i:\n",
    "            contador_digitos += 1\n",
    "        numero = numero//10\n",
    "    if contador_digitos >= 2:\n",
    "        print(f'El dígito {i} está repetido {contador_digitos} veces')"
   ]
  },
  {
   "cell_type": "markdown",
   "metadata": {},
   "source": [
    "#### 8. Iterar a través de los primeros cien enteros positivos, buscando los múltiplos de 3 e imprimiendo y almacenándolos en una lista hasta encontrar los primeros 15 de ellos. Una vez encontrados, continuar iterando en busca de los múltiplos de 4 y almacenarlos en otra lista."
   ]
  },
  {
   "cell_type": "code",
   "execution_count": null,
   "metadata": {},
   "outputs": [],
   "source": [
    "# Se itera desde 1 hasta 100, hallando los primeros 15 multiplos de 3 y...\n",
    "# ...agregando a la cadena vacía, luego se itera en los elementos restantes...\n",
    "# ...los múltiplos de 4 y se imprimen ambas listas\n",
    "multiplos_de_3 = []\n",
    "multiplos_de_4 = []\n",
    "for i in range(1, 101):\n",
    "    if i % 3 == 0 and len(multiplos_de_3) <= 14:\n",
    "        multiplos_de_3.append(i)\n",
    "    elif i % 4 == 0 and len(multiplos_de_3) > 14:\n",
    "        multiplos_de_4.append(i)\n",
    "\n",
    "print(f'Los primeros 15 múltiplos de 3 son: \\n{multiplos_de_3}')\n",
    "print(f'\\nLos números que son múltiplos de 4 después de\\\n",
    " los primeros 15 múltiplos de 3 son: \\n{multiplos_de_4}')"
   ]
  },
  {
   "cell_type": "markdown",
   "metadata": {},
   "source": [
    "#### 9. Hacer un programa que lea las coordenadas (x1,y1,r1) y (x2,y2,r2) que corresponden al centro y al radio de dos círculos. y luego lea un punto de coordenadas (a,b). Determina si (a,b) está contenido: \n",
    "    a) dentro del círculo 1\n",
    "    b) dentro del círculo 2\n",
    "    c) dentro de ambos círculos\n",
    "    d) fuera de ambos círculos.\n",
    "#### Recordemos que el círculo es el lugar geométrico de los puntos del plano cuya distancia a otro punto fijo, llamado centro, es menor o igual que una cantidad constante, llamada radio."
   ]
  },
  {
   "cell_type": "code",
   "execution_count": null,
   "metadata": {},
   "outputs": [],
   "source": [
    "from math import sqrt as raiz_cuadrada  # Importamos el módulo de sqrt como...\n",
    "                                        # ...Raiz cuadrada para mejorar la...\n",
    "                                        # ...claridad del código\n",
    "\n",
    "# Se restringen el tipo de datos a flotantes y radio positivo, si se ingresa..\n",
    "# ... un dato erroneo se deben ingresar TODAS las componentes del círculo\n",
    "print('Ingrese las coordenadas x1, y1 y el radio 1 del primer círculo: ')\n",
    "while True:\n",
    "    try:\n",
    "        coordenada_x1 = float(input('Coordenada x1: '))\n",
    "        coordenada_y1 = float(input('Coordenada y1: '))\n",
    "        radio_r1 = float(input('Ingrese un valor mayor a Cero para el '\n",
    "                               'radio 1: '))\n",
    "        if type(coordenada_x1) == float and type(coordenada_y1) == float and \\\n",
    "        type(radio_r1) == float and radio_r1 >= 0: break\n",
    "    except ValueError or False:\n",
    "        print('Dato inválido ingresado, vuelva a ingresar las \\\n",
    "              coordenadas x1, y1 y el radio 1: ')\n",
    "print(f'\\nPunto 1: ({coordenada_x1}, {coordenada_y1})\\tRadio 1: {radio_r1}\\n')\n",
    "\n",
    "print('Ingrese las coordenadas x2, y2 y el radio 2 del segundo círculo:')\n",
    "while True:\n",
    "    try:\n",
    "        coordenada_x2 = float(input('Coordenada x2: '))\n",
    "        coordenada_y2 = float(input('Coordenada y2: '))\n",
    "        radio_r2 = float(input('Ingrese un valor mayor a Cero para el '\n",
    "                               'radio 2: '))\n",
    "        if type(coordenada_x2) == float and type(coordenada_y2) == float and\\\n",
    "        type(radio_r2) == float and radio_r2 >= 0: break\n",
    "    except ValueError:\n",
    "        print('Dato inválido ingresado, vuelva a ingresar las'\n",
    "              'coordenadas x2, y2 y el radio 2: ')\n",
    "print(f'\\nPunto 2: ({coordenada_x2}, {coordenada_y2})\\tRadio 2: {radio_r2}\\n')\n",
    "\n",
    "print('Ingrese las coordenadas \"a\" y \"b\":')\n",
    "while True:\n",
    "    try:\n",
    "        coordenada_a = float(input('Coordenada a: '))\n",
    "        coordenada_b = float(input('Coordenada b: '))\n",
    "        if type(coordenada_a) == float and type(coordenada_b) == float: break\n",
    "    except ValueError:\n",
    "        print('Dato inválido ingresado, vuelva a ingresar las \\\n",
    "              coordenadas \"a\" y \"b\": ')\n",
    "print(f'\\nCoordenadas (a,b): ({coordenada_a}, {coordenada_b})\\n')\n",
    "\n",
    "distancia_1 = raiz_cuadrada((coordenada_a - coordenada_x1)**2 +\\\n",
    "                            (coordenada_b - coordenada_y1)**2)\n",
    "distancia_2 = raiz_cuadrada((coordenada_a - coordenada_x2)**2 +\\\n",
    "                            (coordenada_b - coordenada_y2)**2)\n",
    "\n",
    "if distancia_1 <= radio_r1:\n",
    "    if distancia_2 <= radio_r2:\n",
    "        print(f'El punto ({coordenada_a}, {coordenada_b}) está contenido '\n",
    "              'en ambos círculos')\n",
    "    else:\n",
    "        print(f'El punto ({coordenada_a}, {coordenada_b}) está contenido '\n",
    "              'solo en el círculo 1')\n",
    "elif distancia_2 <= radio_r2:\n",
    "    print(f'El punto ({coordenada_a}, {coordenada_b}) está contenido solo '\n",
    "          ' en el círculo 2')\n",
    "else:\n",
    "    print(f'El punto ({coordenada_a}, {coordenada_b}) no está contenido en '\n",
    "          'ninguno de los dos círculos')"
   ]
  },
  {
   "cell_type": "markdown",
   "metadata": {},
   "source": [
    "## CADENAS"
   ]
  },
  {
   "cell_type": "markdown",
   "metadata": {},
   "source": [
    "#### 10. Sin utilizar el método .upper() para cadenas, escribir un programa que lea una cadena de texto y la imprima en mayúscula. Tenga en cuenta que el programa debe aceptar las letras con tilde, la ñ y la ü."
   ]
  },
  {
   "cell_type": "code",
   "execution_count": null,
   "metadata": {},
   "outputs": [],
   "source": [
    "texto = str(input('Ingrese una cadena de texto: '))\n",
    "\n",
    "# Se establece el rango respecto a UNICODE donde se encuentran las letras...\n",
    "# ...minúsculas, incluyendo 'ñ' y 'ü', luego se evalua cada caracter de la...\n",
    "# ...cadena y se remplaza por el UNICODE que se encuentra 32 veces abajo...\n",
    "# ...del caracter evaluado\n",
    "minusculas = list(range(97, 123)) + list(range(224, 253))\n",
    "for i in minusculas:\n",
    "    texto = texto.replace(chr(i),chr(i-32))\n",
    "\n",
    "print(texto)"
   ]
  },
  {
   "cell_type": "markdown",
   "metadata": {},
   "source": [
    "#### 11. Escribir un programa que reciba una cadena de texto y reporte:\n",
    "\n",
    "    a) cuántas letras vocales en mayúscula se entraron\n",
    "    b) cuántas letras con tilde se entraron (minúsculas y mayúsculas) \n",
    "    c) cuántos dígitos se entraron\n",
    "    d) cuántos espacios se entraron \n",
    "    e) cuántas palabras reservadas se entraron"
   ]
  },
  {
   "cell_type": "code",
   "execution_count": null,
   "metadata": {},
   "outputs": [],
   "source": [
    "texto = input('Escriba una cadena de texto: ')\n",
    "\n",
    "texto_en_lista = texto.split()\n",
    "lista_vocales_mayusculas = list('AEIOU')\n",
    "lista_tildes = list('áéíóúÁÉÍÓÚ')\n",
    "lista_palabras_reservadas = str('False class from or None continue global pass True def if ' \n",
    "             'raise and del import return as elif in try assert else is while ' \n",
    "             'async except lambda with await finally nonlocal yield break for ' \n",
    "             'not').split()\n",
    "\n",
    "contador_vocales_mayusculas = contador_tildes = contador_digitos \\\n",
    "= contador_espacios = contador_palabras_reservadas = 0\n",
    "for i in texto:\n",
    "    if i in lista_vocales_mayusculas:\n",
    "        contador_vocales_mayusculas += 1\n",
    "    elif i in lista_tildes:\n",
    "        contador_tildes += 1\n",
    "    elif i.isdigit():\n",
    "        contador_digitos += 1\n",
    "    elif i in [' ']:\n",
    "        contador_espacios += 1\n",
    "\n",
    "for i in texto_en_lista:\n",
    "    if i in lista_palabras_reservadas:\n",
    "        contador_palabras_reservadas += 1\n",
    "\n",
    "\n",
    "print(f'\\nEn el texto hay: {contador_vocales_mayusculas} vocales mayúsculas')\n",
    "print(f'En el texto hay: {contador_tildes} letras con tilde')\n",
    "print(f'En el texto hay: {contador_digitos} dígitos')\n",
    "print(f'En el texto hay: {contador_espacios} espacios')\n",
    "print(f'En el texto hay: {contador_palabras_reservadas} palabras '\n",
    "      'reservadas por python')"
   ]
  },
  {
   "cell_type": "markdown",
   "metadata": {},
   "source": [
    "#### 12. Hacer un programa que lea dos palabras (podrían estar en mayúscula o minúscula) y determine cual está primero en el diccionario. El programa debe soportar letras con tilde, la ü y la ñ."
   ]
  },
  {
   "cell_type": "code",
   "execution_count": null,
   "metadata": {},
   "outputs": [],
   "source": [
    "palabra_1 = input('Ingrese una palabra: ')\n",
    "palabra_2 = input('Ingrese otra palabra: ')\n",
    "lista_de_palabras = [palabra_1, palabra_2]\n",
    "lista_de_palabras.sort(key = str.lower) #sort modifica la lista previa ...\n",
    "                            #...ordenándola ...\n",
    "                            #...alfabéticamente. key crea una condicion...  \n",
    "                            #...antes de ordenar: que todas las letras estén..\n",
    "                            #...en minúscula, porque las mayusculas están en..\n",
    "                            #...primer lugar que las minúsculas en el UNICODE\n",
    "\n",
    "print(f'{lista_de_palabras[0]} está primero en el '    #lista_de_palabra[x]...\n",
    "         f'diccionario que {lista_de_palabras[1]}')      #..equivale al orden..\n",
    "                                                        #..en lista de la...\n",
    "                                                        #..palabra 1 y 2"
   ]
  },
  {
   "cell_type": "markdown",
   "metadata": {},
   "source": [
    "#### 13. Escribir un programa que lea una cadena de texto y la imprima como un triángulo. Por ejemplo, si la cadena entrada es: \"Es una locura odiar a todas las rosas porque una te pinchó: renunciar a todos tus sueños porque uno de ellos no se realizó - El Principito\", el programa debe imprimir:\n",
    "\n",
    "             E\n",
    "            sun\n",
    "           alocu\n",
    "          raodiar\n",
    "         atodaslas\n",
    "        rosasporque\n",
    "       unatepinchó:r\n",
    "      enunciaratodost\n",
    "     ussueñosporqueuno\n",
    "    deellosnoserealizó-\n",
    "       ElPrincipito\n",
    "\n",
    "##### Observe que la última cadena queda centrada con respecto a la base del triángulo."
   ]
  },
  {
   "cell_type": "code",
   "execution_count": null,
   "metadata": {},
   "outputs": [],
   "source": [
    "cadena_de_texto = input('Ingrese una cadena de texto: ')\n",
    "\n",
    "# Se modifica la cadena, convirtiendo en lista sin los espacios y uniendo...\n",
    "#...nuevamente en una cadena con 'join'\n",
    "cadena_de_texto = [letras for letras in cadena_de_texto if letras != ' ']\n",
    "cadena_de_texto = ''.join(cadena_de_texto)\n",
    "\n",
    "# Se busca longitud de la cadena al final, restando lo que tendría...\n",
    "#...cada renglón hasta que el número sea negativo. Esta longitud será...\n",
    "#...la longitud de centrado\n",
    "longitud_cadena = len(cadena_de_texto)\n",
    "longitud_centrado = 0\n",
    "for i in range(0,len(cadena_de_texto)):\n",
    "    caracteres_restantes = longitud_cadena - (i*2 + 1)\n",
    "    if caracteres_restantes <= 0:\n",
    "        longitud_centrado = (i*2 + 1)\n",
    "        break\n",
    "    longitud_cadena = caracteres_restantes\n",
    "\n",
    "# i trae consigo desde la iteración anterior el número de filas que...\n",
    "#...tendrá la cadena, y se le añade una correspondiente a la parte de la...\n",
    "#...cadena que queda sin texto en toda la fila y se llena con espacios vacios\n",
    "rango = i + 1\n",
    "desde_a = 0\n",
    "for i in range(0,rango):\n",
    "    hasta_b = desde_a + 2*i + 1\n",
    "    print(cadena_de_texto[desde_a:hasta_b].center(longitud_centrado))\n",
    "    desde_a = hasta_b"
   ]
  },
  {
   "cell_type": "markdown",
   "metadata": {},
   "source": [
    "#### 14. Leer una cadena de texto y organice alfabéticamente cada una de las letras que la componen, repitiendo cada una tantas veces como se encuentra. Por ejemplo, la cadena ‘tarea importante’ será ‘aaaeeimnoprrttt’. (Note que no se incluyen los espacios)."
   ]
  },
  {
   "cell_type": "code",
   "execution_count": null,
   "metadata": {},
   "outputs": [],
   "source": [
    "cadena_de_texto = input('Ingrese una cadena de texto: ')\n",
    "# Se modifica la cadena, convirtiendo en lista sin los espacios y uniendo...\n",
    "#...nuevamente en una cadena con 'join'\n",
    "cadena_en_lista = [caracter for caracter in cadena_de_texto if caracter != ' ']\n",
    "cadena_en_lista.sort(key = str.lower)\n",
    "cadena_sin_espacios = ''.join(cadena_en_lista)\n",
    "print(cadena_sin_espacios)"
   ]
  },
  {
   "cell_type": "markdown",
   "metadata": {},
   "source": [
    "## LISTAS"
   ]
  },
  {
   "cell_type": "markdown",
   "metadata": {},
   "source": [
    "#### 15. Leer una lista de números enteros y enumerar cuantos elementos se repiten exactamente dos veces. Utilizar para tal fin el método count() de listas."
   ]
  },
  {
   "cell_type": "code",
   "execution_count": null,
   "metadata": {},
   "outputs": [],
   "source": [
    "lista_de_numeros = []\n",
    "# Se agregará una solicitud de cuantos datos se ingresarán para tener mayor...\n",
    "#...orden a la hora de ejecutar el programa\n",
    "numero_datos = int(input('¿Cuantos datos va a ingresar?: '))\n",
    "\n",
    "for i in range(1, numero_datos + 1):\n",
    "    while True:\n",
    "        try:\n",
    "            elementos_lista = int(input(f'Ingrese el elemento {i}: '))\n",
    "            if type(elementos_lista) == int: break\n",
    "        except ValueError or False:\n",
    "            print('Dato incorrecto, ingrese un numero entero: ')\n",
    "    lista_de_numeros.append(elementos_lista)\n",
    "# 'contador' se encarga de llevar la lista de los números que se repiten...\n",
    "#...dos veces nada más\n",
    "print(lista_de_numeros)\n",
    "contador = set([numeros for numeros in lista_de_numeros\\\n",
    "      if lista_de_numeros.count(numeros) == 2])\n",
    "print(len(set(contador)), 'elementos se repiten 2 veces: ')\n",
    "print('\\t:', [numero for numero in contador])"
   ]
  },
  {
   "cell_type": "markdown",
   "metadata": {},
   "source": [
    "#### 16. Leer una lista de números ya ordenados de forma ascendente y verificar que dicha lista está ordenada. Luego, leer un número e insertarlo en la lista en la posición que le corresponde a dicho número."
   ]
  },
  {
   "cell_type": "code",
   "execution_count": null,
   "metadata": {},
   "outputs": [
    {
     "name": "stdout",
     "output_type": "stream",
     "text": [
      "Por favor ingrese la lista dentro de [] y separe los elementos con comas. Por ejemplo:[1,2,3]Escriba una lista de números ya ordenados de forma ascendente:[1,2,4,9,2,20,30,120]\n"
     ]
    }
   ],
   "source": [
    "lista_de_numeros = []\n",
    "# Se agregará una solicitud de cuantos datos se ingresarán para tener mayor...\n",
    "#...orden a la hora de ejecutar el programa, el rango empieza en 1 para así...\n",
    "#...poder iniciar el conteo de elementos a partir de este\n",
    "numero_datos = int(input('¿Cuantos datos va a ingresar?: '))\n",
    "\n",
    "# Se indicará que se ingrese los datos ordenadamente, de menor a mayor, para...\n",
    "#...esto nos valemos del comando 'sorted()' que permite ordenar lista SIN...\n",
    "#...AFECTAR LA ORIGINAL, comparamos luego ambas listas y sin no son iguales...\n",
    "#...es que el dato solicitado no se ingreso en el orden debido\n",
    "print('\\nSe creará una lista ordenada de MENOR A MAYOR, por favor ingrese'\n",
    "      'los datos en orden, en caso contrario se le solicitarán nuevamente\\n')\n",
    "for i in range(1, numero_datos + 1):\n",
    "    while True:\n",
    "        try:\n",
    "            while True:\n",
    "                try:\n",
    "                    elementos_lista = float(input(f'Ingrese el '\n",
    "                                                  f'elemento {i}: '))\n",
    "                    if type(elementos_lista) == float: break\n",
    "                except ValueError or False:\n",
    "                    print('Dato incorrecto, ingrese un número: ')\n",
    "            lista_de_numeros.append(elementos_lista)\n",
    "            lista_de_prueba = sorted(lista_de_numeros)\n",
    "            if lista_de_prueba == lista_de_numeros:\n",
    "                break\n",
    "            else:\n",
    "                lista_de_prueba.remove(elementos_lista)\n",
    "                lista_de_numeros.remove(elementos_lista)\n",
    "        except ValueError or False:\n",
    "                print('Por favor ingrese un elemento mayor al anterior: ')\n",
    "\n",
    "print(f'\\n La lista ingresada es {lista_de_numeros}')\n",
    "\n",
    "numero_nuevo = float(input('Ingrese un número nuevo para insertar '\n",
    "                                    'en la lista: '))\n",
    "\n",
    "# Para ordenar la posición del nuevo numero en la lista que se ha creado, se...\n",
    "#...usa el comando 'sort()', que a diferencia de 'sorted' SI modifica la...\n",
    "#...lista original\n",
    "lista_de_numeros.append(numero_nuevo)\n",
    "lista_de_numeros.sort()\n",
    "print(f'\\n La nueva lista es: {lista_de_numeros}\\n Fin del programa')"
   ]
  },
  {
   "cell_type": "markdown",
   "metadata": {},
   "source": [
    "#### 17. Leer una lista y determinar cuál es el segundo elemento más grande de dicha lista. No utilice ningún tipo de algoritmo de ordenamiento para realizar este ejercicio."
   ]
  },
  {
   "cell_type": "code",
   "execution_count": null,
   "metadata": {},
   "outputs": [],
   "source": [
    "lista_de_numeros = []\n",
    "# Se agregará una solicitud de cuantos datos se ingresarán para tener mayor...\n",
    "#...orden a la hora de ejecutar el programa\n",
    "numero_datos = int(input('¿Cuantos datos va a ingresar?: '))\n",
    "\n",
    "for i in range(1, numero_datos + 1):\n",
    "    while True:\n",
    "        try:\n",
    "            elementos_lista = float(input(f'Ingrese el elemento {i}: '))\n",
    "            if type(elementos_lista) == float: break\n",
    "        except ValueError:\n",
    "            print('Dato incorrecto, ingrese un número por favor: ')\n",
    "    lista_de_numeros.append(elementos_lista)\n",
    "\n",
    "print(f'\\nEl segundo elemento mayor de la lista \\n'\n",
    "      f'{lista_de_numeros} es: \\n')\n",
    "\n",
    "# Se creará una copia de la lista original sin incluir el elemento mayor...\n",
    "#...para ello usaremos las listas por comprensión para eliminar todas las...\n",
    "#...veces que el elemento se repita y el comando 'max()' que arroja el... \n",
    "#...elemento mayor de la lista\n",
    "copia_lista = [numeros for numeros in lista_de_numeros \\\n",
    "               if numeros != max(lista_de_numeros)]\n",
    "\n",
    "# De la lista copiada determinamos el elemento mayor usando el comando 'max()'\n",
    "#...e imprimirmos el resultado\n",
    "print(f'{max(copia_lista)} \\nFin del programa')"
   ]
  },
  {
   "cell_type": "markdown",
   "metadata": {},
   "source": [
    "#### 18. Leer una matriz cuadrada A, obtener su matriz triangular superior asociada U y determinar qué fila de U contiene la mayor cantidad de unos."
   ]
  },
  {
   "cell_type": "code",
   "execution_count": null,
   "metadata": {},
   "outputs": [],
   "source": [
    "# Se creará una matriz cuadrada, para ello se ingresa la dimensión de la matriz\n",
    "dimension_matriz = int(input('Ingrese la dimensión de la matriz cuadrada A: '))\n",
    "\n",
    "# Se usa listas por comprensión para crear una matriz de ceros de la...\n",
    "#...dimensión requerida, esto es necesario porque se deben reemplazar estos...\n",
    "#...valores para evitar errores del programa o referencias cruzadas\n",
    "matriz_A = [[0 for columnas in range(0, dimension_matriz)] \\\n",
    "            for filas in range(0, dimension_matriz)]\n",
    "\n",
    "# Usamos 'eval()' para que reconozca los datos ingresados como numeros para...\n",
    "#...la matriz y no como cadenas\n",
    "for i in range(dimension_matriz):\n",
    "    for j in range(dimension_matriz):\n",
    "        matriz_A[i][j] = int(input(f'Ingrese el elemento [{i+1}] [{j+1}]:'))\n",
    "\n",
    "print('\\nLa matriz cuadrada ingresada es: \\n')\n",
    "for i in range(dimension_matriz):\n",
    "    print(f'{matriz_A[i]}')\n",
    "    \n",
    "matriz_triangular = [[0 for columnas in range(0, dimension_matriz)] \\\n",
    "            for filas in range(0, dimension_matriz)]\n",
    "\n",
    "# La matriz triangular que se halla es solo una de referencia, no se operará...\n",
    "#...la matriz A hasta llegar a la verdadera matriz triangular, sino que se...\n",
    "#...cambiará a cero los numeros por debajo de la diagonal principal con el...\n",
    "#...el siguiente ciclo:\n",
    "print('\\nLa matriz triangular de referencia obtenida a partir de A es: \\n')\n",
    "for i in range(dimension_matriz):\n",
    "    for j in range(dimension_matriz):\n",
    "        if i > j:\n",
    "            matriz_triangular[i][j] = 0\n",
    "        else:\n",
    "            matriz_triangular[i][j] = matriz_A[i][j]\n",
    "    print(f'{matriz_triangular[i]}')\n",
    "# No se usó lista por comprensión porque sería dificil de entender la forma...\n",
    "#...como aparece la matriz triangular\n",
    "\n",
    "# Para hallar la fila con mayor cantidad de 1, se hace conteo de unos con...\n",
    "#...count() para cada fila de la matriz, luego comparamos los totales para...\n",
    "#...saber cual fila tiene más\n",
    "mayor_cantidad_1s = 0\n",
    "filas_con_1 = []\n",
    "for i in range(dimension_matriz):\n",
    "    unos_fila_evaluada = matriz_triangular[i].count(1)\n",
    "    if mayor_cantidad_1s < unos_fila_evaluada:\n",
    "        mayor_cantidad_1s = unos_fila_evaluada\n",
    "        filas_con_1.append(i+1)\n",
    "    elif mayor_cantidad_1s == unos_fila_evaluada and unos_fila_evaluada != 0:\n",
    "        filas_con_1.append(i+1)\n",
    "\n",
    "# Imprimimos el resultado teniendo en cuenta que posiblemente haya mas de...\n",
    "#...una fila con unos o no haya ninguna\n",
    "if len(filas_con_1) != 0:\n",
    "    print('\\nLa fila o filas con mayor cantidad de 1 son: \\n')\n",
    "    for i in range(len(filas_con_1)):\n",
    "        print(f'\\t \\t fila: {i+1}')\n",
    "    print(f'\\nTotal de 1 por fila : {mayor_cantidad_1s}')\n",
    "else:\n",
    "    print('\\nNinguna fila de la matriz A tiene el número 1')"
   ]
  },
  {
   "cell_type": "markdown",
   "metadata": {},
   "source": [
    "#### 19. Leer una lista e identifique la sublista más larga dentro de dicha lista que se encuentra ordenada ascendentemente. Por ejemplo, en la lista [5, 6, 5, 1, 2, 6, 9, 2, 4, 1] la mayor sublista ordenada es la [1, 2, 6, 9]."
   ]
  },
  {
   "cell_type": "code",
   "execution_count": null,
   "metadata": {},
   "outputs": [],
   "source": [
    "lista_de_numeros = []\n",
    "# Se agregará una solicitud de cuantos datos se ingresarán para tener mayor...\n",
    "#...orden a la hora de ejecutar el programa\n",
    "numero_datos = int(input('¿Cuantos datos va a ingresar?: '))\n",
    "\n",
    "for i in range(1, numero_datos + 1):\n",
    "    while True:\n",
    "        try:\n",
    "            elementos_lista = int(input(f'Ingrese el elemento {i}: '))\n",
    "            if type(elementos_lista) == int: break\n",
    "        except ValueError:\n",
    "            print('Dato incorrecto, ingrese un número por favor: ')\n",
    "    lista_de_numeros.append(elementos_lista)\n",
    "    \n",
    "\n",
    "sublistas = []\n",
    "longitud_sublistas = []\n",
    "sublista_larga = []\n",
    "\n",
    "# Para este programa se realizará un slice de cada conjunto de números...\n",
    "#...consecutivos que se guardarán como sublista de la variable sublistas...\n",
    "#...Para ello hallaremos los índices que necesitamos para hacer el slice,...\n",
    "#...estos índices se llamarán 'desde' y 'hasta'\n",
    "desde = 0\n",
    "hasta = 0\n",
    "for i in range(len(lista_de_numeros) - 1):\n",
    "    if lista_de_numeros[i] <= lista_de_numeros[i + 1]:\n",
    "        hasta = i+1\n",
    "    else:\n",
    "        sublistas.append(lista_de_numeros[desde:hasta+1])\n",
    "        continue\n",
    "\n",
    "for i in range(len(sublistas)):\n",
    "    longitud_sublistas.append(len(sublistas[i]))\n",
    "\n",
    "for i in range(len(sublistas)):\n",
    "    if len(sublistas[i]) == (max(longitud_sublistas)) and sublistas != []:\n",
    "        print(f'{sublistas[i]}')\n",
    "    else:\n",
    "        print('No hay sublistas con sus numeros ordenados')    \n"
   ]
  },
  {
   "cell_type": "markdown",
   "metadata": {},
   "source": [
    "#### 20. Hacer un programa que lea una matriz y la rote 90 grados en sentido antihorario. Imprimir la matriz resultante. Por ejemplo, dada la matriz\n",
    "\n",
    "    62  42  70  66  10\n",
    "    35  10   4  92  94\n",
    "    33  37   5 100  19\n",
    "    79  44  72  53  91\n",
    "\n",
    "#### la matriz solicitada es la:\n",
    "\n",
    "    10  94  19  91\n",
    "    66  92 100  53\n",
    "    70   4   5  72\n",
    "    42  10  37  44\n",
    "    62  35  33  79\n",
    "\n",
    "#### Repita el mismo ejercicio utilizando el módulo numpy."
   ]
  },
  {
   "cell_type": "code",
   "execution_count": null,
   "metadata": {},
   "outputs": [],
   "source": []
  }
 ],
 "metadata": {
  "kernelspec": {
   "display_name": "Python 3",
   "language": "python",
   "name": "python3"
  },
  "language_info": {
   "codemirror_mode": {
    "name": "ipython",
    "version": 3
   },
   "file_extension": ".py",
   "mimetype": "text/x-python",
   "name": "python",
   "nbconvert_exporter": "python",
   "pygments_lexer": "ipython3",
   "version": "3.7.3"
  }
 },
 "nbformat": 4,
 "nbformat_minor": 2
}
